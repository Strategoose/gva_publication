{
 "cells": [
  {
   "cell_type": "code",
   "execution_count": 1,
   "metadata": {},
   "outputs": [],
   "source": [
    "import pandas as pd\n",
    "import numpy as np\n",
    "\n",
    "sic_mappings = pd.read_csv('lookups/sic_mappings.csv', dtype={'sic': 'str', 'sic2': 'str'})\n",
    "\n",
    "path = '/Volumes/Data/EAU/Statistics/Economic Estimates/2017 publications/November publication/GVA - current/Working_file_dcms_V11 2016 Data.xlsx'"
   ]
  },
  {
   "cell_type": "code",
   "execution_count": 2,
   "metadata": {},
   "outputs": [
    {
     "data": {
      "text/plain": [
       "sic      object\n",
       "year      int64\n",
       "abs     float64\n",
       "dtype: object"
      ]
     },
     "execution_count": 2,
     "metadata": {},
     "output_type": "execute_result"
    }
   ],
   "source": [
    "# note: both sections of data contain sic 92 so one needs removing\n",
    "df = pd.read_excel(path, sheet_name = 'NEW ABS DATA (2)', usecols=list(range(12, 21)))\n",
    "df = df.iloc[pd.np.r_[4:81, 82:86, 88, 90:161], :]\n",
    "df = df.rename(columns={'Checks': 'sic'}).reset_index(drop=True)\n",
    "df.sic = df.sic.astype(str) #for some reason 62.011 was being held as a number so need to convert to str\n",
    "df = pd.melt(df, id_vars=['sic'], var_name='year', value_name='abs')\n",
    "df.year = df.year.astype(int)\n",
    "abs = df.copy()\n",
    "abs.dtypes"
   ]
  },
  {
   "cell_type": "code",
   "execution_count": 3,
   "metadata": {},
   "outputs": [
    {
     "data": {
      "text/plain": [
       "year         int64\n",
       "gva        float64\n",
       "total      float64\n",
       "perc       float64\n",
       "overlap    float64\n",
       "dtype: object"
      ]
     },
     "execution_count": 3,
     "metadata": {},
     "output_type": "execute_result"
    }
   ],
   "source": [
    "df = pd.read_excel(path, sheet_name = 'Charities', usecols=list(range(0, 5)), skiprows=[0])\n",
    "df = df.iloc[0:7, :]\n",
    "df.columns = ['year', 'gva', 'total', 'perc', 'overlap']\n",
    "df.year = df.year.astype(int)\n",
    "charities = df.copy()\n",
    "charities.dtypes"
   ]
  },
  {
   "cell_type": "code",
   "execution_count": 4,
   "metadata": {},
   "outputs": [
    {
     "data": {
      "text/plain": [
       "year         int64\n",
       "gva        float64\n",
       "total        int64\n",
       "perc       float64\n",
       "overlap    float64\n",
       "dtype: object"
      ]
     },
     "execution_count": 4,
     "metadata": {},
     "output_type": "execute_result"
    }
   ],
   "source": [
    "df = pd.read_excel(path, sheet_name = 'Tourism', usecols=list(range(0, 5)))\n",
    "df.columns = ['year', 'gva', 'total', 'perc', 'overlap']\n",
    "tourism = df.copy()\n",
    "tourism.dtypes"
   ]
  },
  {
   "cell_type": "code",
   "execution_count": 5,
   "metadata": {},
   "outputs": [
    {
     "data": {
      "text/plain": [
       "sic            object\n",
       "year            int64\n",
       "gva_2digit    float64\n",
       "dtype: object"
      ]
     },
     "execution_count": 5,
     "metadata": {},
     "output_type": "execute_result"
    }
   ],
   "source": [
    "df = pd.read_excel(path, sheet_name = 'CP Millions', skiprows=[0,1,2,3])\n",
    "df = df.iloc[9:36, 2:].set_index('Unnamed: 2')\n",
    "df = df.T.reset_index().rename(columns={'index': 'sic'})\n",
    "df.iloc[0,0] = 'year_total'\n",
    "s = sic_mappings.sic2.append(pd.Series('year_total'))\n",
    "df = df.loc[df['sic'].isin(s)]\n",
    "if len(sic_mappings.sic2.unique()) != df.shape[0] - 1:\n",
    "    print('missing sics!')\n",
    "df = pd.melt(df, id_vars=['sic'], var_name='year', value_name='gva_2digit')\n",
    "df[['year', 'gva_2digit']] = df[['year', 'gva_2digit']].apply(pd.to_numeric)\n",
    "gva = df.copy()\n",
    "gva.dtypes"
   ]
  },
  {
   "cell_type": "code",
   "execution_count": 6,
   "metadata": {},
   "outputs": [
    {
     "data": {
      "text/plain": [
       "sic      object\n",
       "year      int64\n",
       "abs     float64\n",
       "dtype: object"
      ]
     },
     "execution_count": 6,
     "metadata": {},
     "output_type": "execute_result"
    }
   ],
   "source": [
    "df = pd.read_excel(path, sheet_name='SIC 91 Sales Data', header=None, dtype={0: 'str'})\n",
    "df = df.iloc[:, [0,2,3]].dropna(axis=0).reset_index(drop=True)\n",
    "df.columns = ['sic', 'year', 'abs']\n",
    "df.year = df.year.astype(int)\n",
    "sic91 = df.copy()\n",
    "sic91.dtypes"
   ]
  },
  {
   "cell_type": "code",
   "execution_count": 7,
   "metadata": {},
   "outputs": [
    {
     "data": {
      "text/plain": [
       "abs            True\n",
       "abs_2digit     True\n",
       "description    True\n",
       "gva            True\n",
       "gva_2digit     True\n",
       "perc_split     True\n",
       "sector         True\n",
       "sic            True\n",
       "sic2           True\n",
       "sub-sector     True\n",
       "year           True\n",
       "dtype: bool"
      ]
     },
     "execution_count": 7,
     "metadata": {},
     "output_type": "execute_result"
    }
   ],
   "source": [
    "# combine extracts =============================================================\n",
    "# appending SIC sales data which supplements the ABS for SIC 91\n",
    "abs_2015 = abs.loc[~abs['sic'].isin(sic91['sic'].unique())]\n",
    "abs_2015 = pd.concat([abs_2015, sic91], axis=0)\n",
    "abs_year = abs.year.max()\n",
    "\n",
    "# copy 2015 data to append as 2016 data\n",
    "temp = abs_2015.loc[abs_2015['year'] == abs_year].copy()\n",
    "temp['year'] = abs_year + 1\n",
    "abs_2015 = pd.concat([abs_2015, temp], axis=0)\n",
    "\n",
    "# keep cases from ABS which have integer SIC - which is just a higher level SIC\n",
    "# sic mappings 2 digit has 30.1 as a value\n",
    "# convert abs_2015.sic from str without decimals to float\n",
    "#abs_2015['sic'] = abs_2015['sic'].astype(float)\n",
    "#temp = sic_mappings.loc[sic_mappings['sic2'].apply(lambda x: x.is_integer()), 'sic2']\n",
    "abs_2digit = abs_2015.loc[abs_2015['sic'].isin(sic_mappings.sic2)]\n",
    "abs_2digit = abs_2digit[['year', 'abs', 'sic']]\n",
    "abs_2digit.rename(columns={'sic': 'sic2', 'abs': 'abs_2digit'}, inplace=True)\n",
    "\n",
    "# add ABS to DCMS sectors\n",
    "df = pd.merge(sic_mappings, abs_2015, how='left')\n",
    "\n",
    "# add ABS GVA for integer SIC\n",
    "df = pd.merge(df, abs_2digit, how='left')\n",
    "\n",
    "# split of GVA between SIC by SIC2\n",
    "df['perc_split'] = df['abs'] / df['abs_2digit']\n",
    "df = df.dropna(axis=0, subset=['year', 'abs'], how='any')\n",
    "\n",
    "# add GVA\n",
    "temp = gva.rename(columns={'sic': 'sic2'})\n",
    "temp = temp.loc[temp['sic2'] != 'year_total']\n",
    "df = pd.merge(df, temp, how='left')\n",
    "df['gva'] = df['perc_split'] * df['gva_2digit']\n",
    "\n",
    "# not totally sure why we remove 62.011\n",
    "df = df[df['sic'] != '62.011']\n",
    "combined_gva = df.copy()\n",
    "\n",
    "combined_gva_dtypes_check = pd.Series({\n",
    "    'sic': np.dtype(np.object),\n",
    "    'description': np.dtype(np.object),\n",
    "    'sector': np.dtype(np.object),\n",
    "    'sic2': np.dtype(np.object),\n",
    "    'sub-sector': np.dtype(np.object),\n",
    "    'year': np.dtype(np.int64),\n",
    "    'abs': np.dtype(np.float64),\n",
    "    'abs_2digit': np.dtype(np.float64),\n",
    "    'perc_split': np.dtype(np.float64),\n",
    "    'gva_2digit': np.dtype(np.float64),\n",
    "    'gva': np.dtype(np.float64),\n",
    "})\n",
    "combined_gva.shape == (1494, 11)\n",
    "combined_gva_dtypes_check.sort_index() == combined_gva.dtypes.sort_index()"
   ]
  },
  {
   "cell_type": "code",
   "execution_count": 8,
   "metadata": {},
   "outputs": [],
   "source": [
    "# we aggregate the data in two parts: sector level, and sub-sector level. It is not sufficient to simple have sub-sector level and then sum up to find sector level, since some sectors such as toursim and charities do not have a sub-sector breakdown, and for 'All DCMS' there is overlap between sectors so you could not simply sum all sub-sectors. So for a clean approach the data for total sector level is provided where sub-sector column has the value 'All'\n",
    "\n",
    "# part 1 - sector level aggregate\n",
    "\n",
    "# aggregate combined GVA\n",
    "df = combined_gva.copy()\n",
    "df = df[['year', 'sector', 'gva']].groupby(['year', 'sector']).sum().reset_index()\n",
    "\n",
    "# append Uk total, tourism, and charities\n",
    "temp = gva.loc[gva['sic'] == 'year_total'].copy()\n",
    "temp['sector'] = 'UK'\n",
    "temp = temp.rename(columns={'gva_2digit': 'gva'})\n",
    "gva_temp = temp[['year', 'sector', 'gva']].copy()\n",
    "\n",
    "temp = tourism.copy()\n",
    "temp['sector'] = 'tourism'\n",
    "tourism_temp = temp[['year', 'sector', 'gva']].copy()\n",
    "\n",
    "temp = charities.copy()\n",
    "temp['sector'] = 'charities'\n",
    "charities_temp = temp[['year', 'sector', 'gva']].copy()\n",
    "\n",
    "df = pd.concat([df, gva_temp, tourism_temp, charities_temp], axis=0)\n",
    "\n",
    "# add overlap info from tourism in order to calculate GVA for sector=all_dcms\n",
    "temp = tourism.copy()\n",
    "temp['sector'] = 'all_dcms'\n",
    "temp = temp[['year', 'sector', 'overlap']].copy()\n",
    "df = pd.merge(df, temp, how='left')\n",
    "df['gva'] = df['gva'] + df['overlap'].fillna(0)\n",
    "df = df.drop(['overlap'], axis=1)\n",
    "\n",
    "# add overlap info from charities in order to calculate GVA for sector=all_dcms\n",
    "temp = charities.copy()\n",
    "temp['sector'] = 'all_dcms'\n",
    "temp = temp[['year', 'sector', 'overlap']].copy()\n",
    "df = pd.merge(df, temp, how='left')\n",
    "df['gva'] = df['gva'] + df['overlap'].fillna(0)\n",
    "df = df.drop(['overlap'], axis=1)\n",
    "\n",
    "# sort data - this is for consistency\n",
    "df = df[['sector', 'year', 'gva']].sort_values(by=['year', 'sector'])\n",
    "\n",
    "# populate sub-sector column with 'All'\n",
    "df['sub-sector'] = 'All'\n",
    "\n",
    "sector_agg = df.copy()\n",
    "\n",
    "# part 2 - sub-sector level aggregate\n",
    "df = combined_gva.loc[combined_gva['sector'] != 'all_dcms', ['sector', 'sub-sector', 'year', 'gva']]\n",
    "#df.columns = ['sector', 'sub-sector', 'year', 'gva']\n",
    "subsector_agg = df.copy()\n",
    "\n",
    "# append data\n",
    "df = pd.concat([subsector_agg, sector_agg], axis=0)\n",
    "\n",
    "# remove pre 2010 data\n",
    "current_year = gva.year.max()\n",
    "df = df.loc[df['year'].isin(range(2010, current_year + 1))]\n",
    "\n",
    "# rename sector column's level names\n",
    "sector_names = {\n",
    "    \"charities\": \"Civil Society (Non-market charities)\",\n",
    "    \"creative\": \"Creative Industries\",\n",
    "    \"culture\": \"Cultural Sector\",\n",
    "    \"digital\": \"Digital Sector\",\n",
    "    \"gambling\": \"Gambling\",\n",
    "    \"sport\": \"Sport\",\n",
    "    \"telecoms\": \"Telecoms\",\n",
    "    \"tourism\": \"Tourism\",\n",
    "    \"all_dcms\": \"All DCMS sectors\",\n",
    "    \"UK\": \"UK\"\n",
    "}\n",
    "df['sector'] = df['sector'].map(sector_names)\n",
    "\n",
    "# rounding to remove floating point inaccuracies\n",
    "#df.gva = round(df.gva, 7)\n",
    "\n",
    "df = df.reset_index(drop=True)\n",
    "agg = df.copy()\n",
    "\n",
    "# create aggregate data CSV\n",
    "agg.to_csv('gva_aggregate_data_2016.csv', index=False)"
   ]
  },
  {
   "cell_type": "code",
   "execution_count": 9,
   "metadata": {},
   "outputs": [],
   "source": [
    "# make summary tables ==========================================================\n",
    "\n",
    "# specify row orders for summary tables\n",
    "all_row_order = \"\"\"Civil Society (Non-market charities)\n",
    "Creative Industries\n",
    "Cultural Sector\n",
    "Digital Sector\n",
    "Gambling\n",
    "Sport\n",
    "Telecoms\n",
    "Tourism\n",
    "All DCMS sectors\n",
    "UK\"\"\".split('\\n')\n",
    "creative_row_order = \"\"\"Advertising and marketing\n",
    "Architecture \n",
    "Crafts \n",
    "Design and designer fashion \n",
    "Film, TV, video, radio and photography\n",
    "IT, software and computer services\n",
    "Publishing\n",
    "Museums, galleries and Libraries \n",
    "Music, performing and visual arts\"\"\".split('\\n')\n",
    "digital_row_order = \"\"\"Manufacturing of electronics and computers    \n",
    "Wholesale of computers and electronics    \n",
    "Publishing (excluding translation and interpretation activities)       \n",
    "Software publishing       \n",
    "Film, TV, video, radio and music   \n",
    "Telecommunications        \n",
    "Computer programming, consultancy and related activities        \n",
    "Information service activities      \n",
    "Repair of computers and communication equipment\"\"\".split('\\n')\n",
    "culture_row_order = \"\"\"Arts\n",
    "Film, TV and music\n",
    "Radio\n",
    "Photography\n",
    "Crafts\n",
    "Museums and galleries\n",
    "Library and archives\n",
    "Cultural education\n",
    "Heritage\"\"\".split('\\n')\n",
    "row_orders = {\n",
    "    'Creative Industries': creative_row_order,\n",
    "    'Digital Sector': digital_row_order,\n",
    "    'Cultural Sector': culture_row_order,\n",
    "    'All': all_row_order\n",
    "}\n",
    "\n",
    "\n",
    "def make_table(sector, indexed=False):\n",
    "    # float precision ensure floating points are not rounded\n",
    "    df = pd.read_csv('gva_aggregate_data_2016.csv', float_precision='round_trip')\n",
    "    if sector == 'All':\n",
    "        df = df.loc[df['sub-sector'] == 'All']\n",
    "        breakdown_col = 'sector'\n",
    "    else:\n",
    "        df = df.loc[df['sector'] == sector]\n",
    "        breakdown_col = 'sub-sector'        \n",
    "\n",
    "    tb = pd.crosstab(df[breakdown_col], df['year'], values=df['gva'], aggfunc=sum)\n",
    "    tb = tb.reindex(row_orders[sector])\n",
    "    \n",
    "    if indexed:\n",
    "        data = tb.copy()\n",
    "        tb.loc[:, 2010] = 100\n",
    "        for y in range(2011, current_year + 1):\n",
    "            tb.loc[:, y] = data.loc[:, y] / data.loc[:, 2010] * 100\n",
    "        tb = round(tb, 5)\n",
    "    else:\n",
    "        if sector == 'All':\n",
    "            tb = round(tb / 1000, 5)\n",
    "        else:\n",
    "            tb = round(tb, 5)        \n",
    "        \n",
    "    \n",
    "    return tb"
   ]
  }
 ],
 "metadata": {
  "kernelspec": {
   "display_name": "Python 3",
   "language": "python",
   "name": "python3"
  },
  "language_info": {
   "codemirror_mode": {
    "name": "ipython",
    "version": 3
   },
   "file_extension": ".py",
   "mimetype": "text/x-python",
   "name": "python",
   "nbconvert_exporter": "python",
   "pygments_lexer": "ipython3",
   "version": "3.6.4"
  }
 },
 "nbformat": 4,
 "nbformat_minor": 2
}
