{
 "cells": [
  {
   "cell_type": "code",
   "execution_count": 21,
   "metadata": {},
   "outputs": [
    {
     "name": "stdout",
     "output_type": "stream",
     "text": [
      "The autoreload extension is already loaded. To reload it, use:\n",
      "  %reload_ext autoreload\n"
     ]
    }
   ],
   "source": [
    "# this tells jupyter to reload our packages every time we run import, so that any changes are included\n",
    "if __name__ == \"__main__\":\n",
    "    %load_ext autoreload\n",
    "    %autoreload 2"
   ]
  },
  {
   "cell_type": "markdown",
   "metadata": {},
   "source": [
    "# 2016 GVA Publication"
   ]
  },
  {
   "cell_type": "code",
   "execution_count": 88,
   "metadata": {},
   "outputs": [
    {
     "data": {
      "text/plain": [
       "'/Users/max.unsted/projects/gva/publications/Nov_2016'"
      ]
     },
     "execution_count": 88,
     "metadata": {},
     "output_type": "execute_result"
    }
   ],
   "source": [
    "# the cwd is the directory where the notebook is located\n",
    "# this means that need to make sure that any paths in the notebook are not relative, \n",
    "# else they will fail when used by pytest.\n",
    "# I think this is a better approach than changing the cwd to  gva/ \n",
    "import os\n",
    "os.getcwd()"
   ]
  },
  {
   "cell_type": "markdown",
   "metadata": {},
   "source": [
    "#### Import packages and define paths to directories"
   ]
  },
  {
   "cell_type": "code",
   "execution_count": 1,
   "metadata": {},
   "outputs": [],
   "source": [
    "# this will automatically reload the gva package when changes have been made\n",
    "#%load_ext autoreload\n",
    "#%autoreload 2\n",
    "\n",
    "import pandas as pd\n",
    "import numpy as np\n",
    "import os\n",
    "import sys\n",
    "\n",
    "# find path to root directory\n",
    "if os.path.exists(os.path.abspath(os.path.join('src'))):\n",
    "    module_path = os.path.abspath(os.path.join(''))\n",
    "else: \n",
    "    module_path = os.path.abspath(os.path.join('../..'))\n",
    "\n",
    "# add root directory to sys.path so we that our packages can be found\n",
    "if module_path not in sys.path:\n",
    "    sys.path.append(module_path)\n",
    "        \n",
    "# import package functions\n",
    "from src.functions import read_abs, read_charities, read_tourism, read_gva, read_sic91, combine_gva, aggregate_data, make_table\n",
    "\n",
    "# specify output directory\n",
    "output_dir = os.path.join(module_path, 'publications/Nov_2016')\n",
    "\n",
    "#package_dir = os.path.dirname(os.path.abspath(__file__))\n",
    "#output_dir = os.path.join(module_path, 'outputs')\n",
    "\n",
    "# set path to raw data excel file\n",
    "path = '/Volumes/Data/EAU/Statistics/Economic Estimates/2017 publications/November publication/GVA - current/Working_file_dcms_V11 2016 Data.xlsx'"
   ]
  },
  {
   "cell_type": "markdown",
   "metadata": {},
   "source": [
    "## Part 1 - Read in, clean, and aggregate data\n",
    "This section makes use of the source code in the GVA package's src folder"
   ]
  },
  {
   "cell_type": "markdown",
   "metadata": {},
   "source": [
    "#### Read in and clean up raw data in excel file"
   ]
  },
  {
   "cell_type": "code",
   "execution_count": 2,
   "metadata": {},
   "outputs": [],
   "source": [
    "abs = read_abs(path)\n",
    "charities = read_charities(path)\n",
    "tourism = read_tourism(path)\n",
    "gva = read_gva(path)\n",
    "sic91 = read_sic91(path)"
   ]
  },
  {
   "cell_type": "markdown",
   "metadata": {},
   "source": [
    "#### Combine sic level data read in above into a single dataset"
   ]
  },
  {
   "cell_type": "code",
   "execution_count": 3,
   "metadata": {},
   "outputs": [],
   "source": [
    "combined_gva = combine_gva(abs, gva, sic91)"
   ]
  },
  {
   "cell_type": "markdown",
   "metadata": {},
   "source": [
    "#### Aggregate data to sector level\n",
    "we want the data all in a single dataset so that sector totals can be easily added to subsector breakdowns, and we do not have to store the values twice, which could be confusing."
   ]
  },
  {
   "cell_type": "code",
   "execution_count": 139,
   "metadata": {},
   "outputs": [
    {
     "name": "stderr",
     "output_type": "stream",
     "text": [
      "/Users/max.unsted/projects/gva/src/functions.py:166: FutureWarning: Sorting because non-concatenation axis is not aligned. A future version\n",
      "of pandas will change to not sort by default.\n",
      "\n",
      "To accept the future behavior, pass 'sort=False'.\n",
      "\n",
      "To retain the current behavior and silence the warning, pass 'sort=True'.\n",
      "\n",
      "  df = pd.concat([subsector_agg, sector_agg], axis=0)\n"
     ]
    }
   ],
   "source": [
    "agg = aggregate_data(combined_gva, gva, tourism, charities)"
   ]
  },
  {
   "cell_type": "code",
   "execution_count": 144,
   "metadata": {},
   "outputs": [],
   "source": [
    "#pd.pivot_table(agg, values='gva', index=['sector', 'sub-sector'], columns=['year'], aggfunc=np.sum)"
   ]
  },
  {
   "cell_type": "markdown",
   "metadata": {},
   "source": [
    "#### Save aggregated data to ouputs directory"
   ]
  },
  {
   "cell_type": "code",
   "execution_count": 5,
   "metadata": {},
   "outputs": [],
   "source": [
    "agg.to_csv(os.path.join(output_dir, 'gva_aggregate_data_2016.csv'), index=False)"
   ]
  },
  {
   "cell_type": "markdown",
   "metadata": {},
   "source": [
    "## Part 2 - Produce written reports\n",
    "This section makes used of the report_maker package"
   ]
  },
  {
   "cell_type": "markdown",
   "metadata": {},
   "source": [
    "#### Read in aggregate data"
   ]
  },
  {
   "cell_type": "markdown",
   "metadata": {},
   "source": [
    "This demonstrates that, once the CSV has been generated and published, all the the publication outputs can be created from it, using the below code."
   ]
  },
  {
   "cell_type": "code",
   "execution_count": 6,
   "metadata": {},
   "outputs": [],
   "source": [
    "agg = pd.read_csv(os.path.join(output_dir, 'gva_aggregate_data_2016.csv'))"
   ]
  },
  {
   "cell_type": "markdown",
   "metadata": {},
   "source": [
    "#### Create some summary tables\n",
    "the `make_table()` function simply make time series for different subsets of the data"
   ]
  },
  {
   "cell_type": "markdown",
   "metadata": {},
   "source": [
    "## Create dictionary to be populate html template"
   ]
  },
  {
   "cell_type": "code",
   "execution_count": 312,
   "metadata": {},
   "outputs": [],
   "source": [
    "context = {}"
   ]
  },
  {
   "cell_type": "markdown",
   "metadata": {},
   "source": [
    "#### Define tables"
   ]
  },
  {
   "cell_type": "code",
   "execution_count": 320,
   "metadata": {},
   "outputs": [],
   "source": [
    "gva_current = make_table(agg, 'All')\n",
    "gva_current_indexed = make_table(agg, 'All', indexed=True)\n",
    "creative = make_table(agg, 'Creative Industries')\n",
    "digital = make_table(agg, 'Digital Sector')\n",
    "culture = make_table(agg, 'Cultural Sector')"
   ]
  },
  {
   "cell_type": "markdown",
   "metadata": {},
   "source": [
    "#### Define individual stats"
   ]
  },
  {
   "cell_type": "code",
   "execution_count": 383,
   "metadata": {},
   "outputs": [],
   "source": [
    "perc_change_2010 = (gva_current.loc[:,2016] / gva_current.loc[:,2010] - 1) * 100\n",
    "perc_change_last_year = (gva_current.loc[:,2016] / gva_current.loc[:,2015] - 1) * 100\n",
    "perc_of_uk = (gva_current.loc[:, 2016] / gva_current.loc['UK', 2016]) * 100\n",
    "uk_current_total = gva_current.loc['UK', 2016]"
   ]
  },
  {
   "cell_type": "markdown",
   "metadata": {},
   "source": [
    "#### Extended tables"
   ]
  },
  {
   "cell_type": "code",
   "execution_count": 365,
   "metadata": {},
   "outputs": [
    {
     "data": {
      "text/plain": [
       "'{\"columns\":[\"sector\",2010,2011,2012,2013,2014,2015,2016,\"% change 2015-2016\",\"% change 2010-2016\",\"% of UK GVA 2016\"],\"data\":[[\"Civil Society (Non-market charities)\",19.3,19.6,16.1,18.7,19.8,21.3,20.9,-1.7,8.7,1.2],[\"Creative Industries\",63.4,67.2,70.7,74.9,80.0,85.3,91.8,7.6,44.8,5.3],[\"Cultural Sector\",21.1,21.7,22.6,23.3,24.5,25.6,26.8,4.4,27.1,1.5],[\"Digital Sector\",94.5,99.6,101.7,106.8,108.4,110.2,116.5,5.8,23.3,6.7],[\"Gambling\",8.4,9.3,9.9,10.0,10.4,11.1,10.6,-3.7,26.7,0.6],[\"Sport\",7.0,7.4,7.9,7.5,7.8,8.6,9.0,4.9,28.6,0.5],[\"Telecoms\",24.7,25.5,26.0,28.1,30.0,30.4,30.0,-1.4,21.1,1.7],[\"Tourism\",49.2,53.9,57.3,59.0,60.4,64.6,66.1,2.2,34.4,3.8],[\"All DCMS sectors\",192.7,205.2,209.9,220.8,227.5,239.8,248.5,3.6,29.0,14.2],[\"UK\",1422.0,1458.8,1505.7,1564.4,1638.7,1684.9,1744.4,3.5,22.7,100.0]]}'"
      ]
     },
     "execution_count": 365,
     "metadata": {},
     "output_type": "execute_result"
    }
   ],
   "source": [
    "gva_current_extended = round(make_table(agg, 'All'), 1)\n",
    "gva_current_extended['% change 2015-2016'] = round(perc_change_last_year, 1)\n",
    "gva_current_extended['% change 2010-2016'] = round(perc_change_2010, 1)\n",
    "gva_current_extended['% of UK GVA 2016'] = round(perc_of_uk, 1)\n",
    "gva_current_extended = gva_current_extended.reset_index()\n",
    "# convert column names to strings to ensure order is maintained\n",
    "#gva_current_extended.columns = [str(i) for i in list(gva_current_extended.columns)]\n",
    "gva_current_extended_json = gva_current_extended.to_json(orient='split', index=False)\n",
    "gva_current_extended_json"
   ]
  },
  {
   "cell_type": "markdown",
   "metadata": {},
   "source": [
    "#### Convert data for charts"
   ]
  },
  {
   "cell_type": "code",
   "execution_count": 351,
   "metadata": {},
   "outputs": [],
   "source": [
    "totals = make_table(agg, 'All', indexed=True).loc[['All DCMS sectors', 'UK']]\n",
    "totals = round(totals, 1)\n",
    "totals = totals.stack()\n",
    "totals.name = 'value'\n",
    "totals = totals.reset_index()\n",
    "totals['year'] = pd.to_datetime(totals['year'], format='%Y')\n",
    "#totals_ts_data['year']\n",
    "totals.columns = [\"symbol\", \"date\", \"price\"]\n",
    "totals = totals.to_json(orient='records')"
   ]
  },
  {
   "cell_type": "markdown",
   "metadata": {},
   "source": [
    "### Build Written Report"
   ]
  },
  {
   "cell_type": "markdown",
   "metadata": {},
   "source": [
    "read json template in as python dict - update according, then convert back to json."
   ]
  },
  {
   "cell_type": "code",
   "execution_count": 385,
   "metadata": {},
   "outputs": [],
   "source": [
    "from report_maker import build\n",
    "# from report_maker import build (the function) create_app\n",
    "# add inits to packages\n",
    "# considering just passing the global environment to build so we don't have to specify this, or do all of the\n",
    "# above within a new environment to convert to dict. use context.append().\n",
    "context = {\n",
    "    # publication info\n",
    "    'release_date': '29 November 2017',\n",
    "    \n",
    "    # individual stats\n",
    "    'uk_change_2010': round(perc_change_2010['UK'], 1),\n",
    "    'uk_change_last_year': round(perc_change_last_year['UK'], 1),\n",
    "    'uk_change_2010_cvm': 'NOT AVAILABLE',\n",
    "    'uk_change_last_year_cvm': 'NOT AVAILABLE',\n",
    "    'dcms_perc_uk': round(perc_of_uk['All DCMS sectors']),\n",
    "    'dcms_total': uk_current_total,\n",
    "    \n",
    "    # infographics\n",
    "    'money_bag': {'text': '£994'},\n",
    "    'donut': {'text': '19.2'},\n",
    "    'up_arrow_1': {'text': '20.6%'},\n",
    "    'up_arrow_2': {'text': '40.6%'},\n",
    "    \n",
    "    # json data\n",
    "    'totals_chart_data': totals,\n",
    "    'gva_current_extended_json': gva_current_extended_json,\n",
    "    \n",
    "}\n",
    "build.all(context)"
   ]
  },
  {
   "cell_type": "code",
   "execution_count": 46,
   "metadata": {},
   "outputs": [],
   "source": [
    "from report_maker import testing"
   ]
  },
  {
   "cell_type": "code",
   "execution_count": 47,
   "metadata": {},
   "outputs": [
    {
     "data": {
      "text/plain": [
       "'/Users/max.unsted/projects/gva/report_maker'"
      ]
     },
     "execution_count": 47,
     "metadata": {},
     "output_type": "execute_result"
    }
   ],
   "source": [
    "testing.PATH"
   ]
  },
  {
   "cell_type": "code",
   "execution_count": null,
   "metadata": {},
   "outputs": [],
   "source": [
    "from report_maker import app\n",
    "if __name__ == \"__main__\":\n",
    "    app.run()"
   ]
  },
  {
   "cell_type": "code",
   "execution_count": 85,
   "metadata": {},
   "outputs": [
    {
     "data": {
      "text/plain": [
       "'/Users/max.unsted/projects/gva/publications/Nov_2016/deep'"
      ]
     },
     "execution_count": 85,
     "metadata": {},
     "output_type": "execute_result"
    }
   ],
   "source": [
    "import os\n",
    "cwd = os.getcwd()\n",
    "os.path.join(cwd, \"deep\")"
   ]
  },
  {
   "cell_type": "code",
   "execution_count": 19,
   "metadata": {},
   "outputs": [
    {
     "name": "stdout",
     "output_type": "stream",
     "text": [
      "__main__\n"
     ]
    }
   ],
   "source": [
    "print(__name__)"
   ]
  },
  {
   "cell_type": "markdown",
   "metadata": {},
   "source": [
    "## Part 3 - Create Excel Tables\n",
    "This section makes use of the spreadsheet_maker package. By default it will look for templates in publication_dir/spreadsheets/templates\n",
    "https://github.com/pytest-dev/pytest/issues/2268"
   ]
  },
  {
   "cell_type": "markdown",
   "metadata": {},
   "source": [
    "## Testing"
   ]
  },
  {
   "cell_type": "markdown",
   "metadata": {},
   "source": [
    "#### Dictionary of summary tables for use by the test script"
   ]
  },
  {
   "cell_type": "code",
   "execution_count": 7,
   "metadata": {},
   "outputs": [],
   "source": [
    "summary_tables = {\n",
    "    'gva_current': make_table(agg, 'All'),\n",
    "    'gva_current_indexed': make_table(agg, 'All', indexed=True),\n",
    "    'creative': make_table(agg, 'Creative Industries'),\n",
    "    'digital': make_table(agg, 'Digital Sector'),\n",
    "    'culture': make_table(agg, 'Cultural Sector'),\n",
    "}\n"
   ]
  }
 ],
 "metadata": {
  "kernelspec": {
   "display_name": "Python 3",
   "language": "python",
   "name": "python3"
  },
  "language_info": {
   "codemirror_mode": {
    "name": "ipython",
    "version": 3
   },
   "file_extension": ".py",
   "mimetype": "text/x-python",
   "name": "python",
   "nbconvert_exporter": "python",
   "pygments_lexer": "ipython3",
   "version": "3.6.4"
  }
 },
 "nbformat": 4,
 "nbformat_minor": 2
}
