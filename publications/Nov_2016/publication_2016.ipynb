{
 "cells": [
  {
   "cell_type": "code",
   "execution_count": 21,
   "metadata": {},
   "outputs": [
    {
     "name": "stdout",
     "output_type": "stream",
     "text": [
      "The autoreload extension is already loaded. To reload it, use:\n",
      "  %reload_ext autoreload\n"
     ]
    }
   ],
   "source": [
    "# this tells jupyter to reload our packages every time we run import, so that any changes are included\n",
    "if __name__ == \"__main__\":\n",
    "    %load_ext autoreload\n",
    "    %autoreload 2"
   ]
  },
  {
   "cell_type": "markdown",
   "metadata": {},
   "source": [
    "# 2016 GVA Publication"
   ]
  },
  {
   "cell_type": "code",
   "execution_count": 88,
   "metadata": {},
   "outputs": [
    {
     "data": {
      "text/plain": [
       "'/Users/max.unsted/projects/gva/publications/Nov_2016'"
      ]
     },
     "execution_count": 88,
     "metadata": {},
     "output_type": "execute_result"
    }
   ],
   "source": [
    "# the cwd is the directory where the notebook is located\n",
    "# this means that need to make sure that any paths in the notebook are not relative, \n",
    "# else they will fail when used by pytest.\n",
    "# I think this is a better approach than changing the cwd to  gva/ \n",
    "import os\n",
    "os.getcwd()"
   ]
  },
  {
   "cell_type": "markdown",
   "metadata": {},
   "source": [
    "#### Import packages and define paths to directories"
   ]
  },
  {
   "cell_type": "code",
   "execution_count": 1,
   "metadata": {},
   "outputs": [],
   "source": [
    "# this will automatically reload the gva package when changes have been made\n",
    "#%load_ext autoreload\n",
    "#%autoreload 2\n",
    "\n",
    "import pandas as pd\n",
    "import numpy as np\n",
    "import os\n",
    "import sys\n",
    "\n",
    "# find path to root directory\n",
    "if os.path.exists(os.path.abspath(os.path.join('src'))):\n",
    "    module_path = os.path.abspath(os.path.join(''))\n",
    "else: \n",
    "    module_path = os.path.abspath(os.path.join('../..'))\n",
    "\n",
    "# add root directory to sys.path so we that our packages can be found\n",
    "if module_path not in sys.path:\n",
    "    sys.path.append(module_path)\n",
    "        \n",
    "# import package functions\n",
    "from src.functions import read_abs, read_charities, read_tourism, read_gva, read_sic91, combine_gva, aggregate_data, make_table\n",
    "\n",
    "# specify output directory\n",
    "output_dir = os.path.join(module_path, 'publications/Nov_2016')\n",
    "\n",
    "#package_dir = os.path.dirname(os.path.abspath(__file__))\n",
    "#output_dir = os.path.join(module_path, 'outputs')\n",
    "\n",
    "# set path to raw data excel file\n",
    "path = '/Volumes/Data/EAU/Statistics/Economic Estimates/2017 publications/November publication/GVA - current/Working_file_dcms_V11 2016 Data.xlsx'"
   ]
  },
  {
   "cell_type": "markdown",
   "metadata": {},
   "source": [
    "## Part 1 - Read in, clean, and aggregate data"
   ]
  },
  {
   "cell_type": "markdown",
   "metadata": {},
   "source": [
    "#### Read in and clean up raw data in excel file"
   ]
  },
  {
   "cell_type": "code",
   "execution_count": 2,
   "metadata": {},
   "outputs": [],
   "source": [
    "abs = read_abs(path)\n",
    "charities = read_charities(path)\n",
    "tourism = read_tourism(path)\n",
    "gva = read_gva(path)\n",
    "sic91 = read_sic91(path)"
   ]
  },
  {
   "cell_type": "markdown",
   "metadata": {},
   "source": [
    "#### Combine sic level data read in above into a single dataset"
   ]
  },
  {
   "cell_type": "code",
   "execution_count": 3,
   "metadata": {},
   "outputs": [],
   "source": [
    "combined_gva = combine_gva(abs, gva, sic91)"
   ]
  },
  {
   "cell_type": "markdown",
   "metadata": {},
   "source": [
    "#### Aggregate data to sector level\n",
    "we want the data all in a single dataset so that sector totals can be easily added to subsector breakdowns, and we do not have to store the values twice, which could be confusing."
   ]
  },
  {
   "cell_type": "code",
   "execution_count": 139,
   "metadata": {},
   "outputs": [
    {
     "name": "stderr",
     "output_type": "stream",
     "text": [
      "/Users/max.unsted/projects/gva/src/functions.py:166: FutureWarning: Sorting because non-concatenation axis is not aligned. A future version\n",
      "of pandas will change to not sort by default.\n",
      "\n",
      "To accept the future behavior, pass 'sort=False'.\n",
      "\n",
      "To retain the current behavior and silence the warning, pass 'sort=True'.\n",
      "\n",
      "  df = pd.concat([subsector_agg, sector_agg], axis=0)\n"
     ]
    }
   ],
   "source": [
    "agg = aggregate_data(combined_gva, gva, tourism, charities)"
   ]
  },
  {
   "cell_type": "code",
   "execution_count": 144,
   "metadata": {},
   "outputs": [],
   "source": [
    "#pd.pivot_table(agg, values='gva', index=['sector', 'sub-sector'], columns=['year'], aggfunc=np.sum)"
   ]
  },
  {
   "cell_type": "markdown",
   "metadata": {},
   "source": [
    "#### Save aggregated data to ouputs directory"
   ]
  },
  {
   "cell_type": "code",
   "execution_count": 5,
   "metadata": {},
   "outputs": [],
   "source": [
    "agg.to_csv(os.path.join(output_dir, 'gva_aggregate_data_2016.csv'), index=False)"
   ]
  },
  {
   "cell_type": "markdown",
   "metadata": {},
   "source": [
    "## Part 2 - Produce outputs"
   ]
  },
  {
   "cell_type": "markdown",
   "metadata": {},
   "source": [
    "#### Read in aggregate data"
   ]
  },
  {
   "cell_type": "markdown",
   "metadata": {},
   "source": [
    "This demonstrates that, once the CSV has been generated and published, all the the publication outputs can be created from it, using the below code."
   ]
  },
  {
   "cell_type": "code",
   "execution_count": 6,
   "metadata": {},
   "outputs": [],
   "source": [
    "agg = pd.read_csv(os.path.join(output_dir, 'gva_aggregate_data_2016.csv'))"
   ]
  },
  {
   "cell_type": "markdown",
   "metadata": {},
   "source": [
    "#### Create some summary tables\n",
    "the `make_table()` function simply make time series for different subsets of the data"
   ]
  },
  {
   "cell_type": "markdown",
   "metadata": {},
   "source": [
    "#### Assign all individual stats, and dataframes, used by publication outputs"
   ]
  },
  {
   "cell_type": "code",
   "execution_count": 80,
   "metadata": {},
   "outputs": [],
   "source": [
    "summary_tables = {\n",
    "    'gva_current': make_table(agg, 'All'),\n",
    "    'gva_current_indexed': make_table(agg, 'All', indexed=True),\n",
    "    'creative': make_table(agg, 'Creative Industries'),\n",
    "    'digital': make_table(agg, 'Digital Sector'),\n",
    "    'culture': make_table(agg, 'Cultural Sector'),\n",
    "}"
   ]
  },
  {
   "cell_type": "code",
   "execution_count": 9,
   "metadata": {},
   "outputs": [],
   "source": [
    "uk_current_total = summary_tables['gva_current'].loc['UK', 2016]"
   ]
  },
  {
   "cell_type": "code",
   "execution_count": 262,
   "metadata": {},
   "outputs": [
    {
     "data": {
      "text/plain": [
       "'[{\"symbol\":\"All DCMS sectors\",\"date\":1262304000000,\"price\":100.0},{\"symbol\":\"All DCMS sectors\",\"date\":1293840000000,\"price\":106.5},{\"symbol\":\"All DCMS sectors\",\"date\":1325376000000,\"price\":108.9},{\"symbol\":\"All DCMS sectors\",\"date\":1356998400000,\"price\":114.6},{\"symbol\":\"All DCMS sectors\",\"date\":1388534400000,\"price\":118.1},{\"symbol\":\"All DCMS sectors\",\"date\":1420070400000,\"price\":124.5},{\"symbol\":\"All DCMS sectors\",\"date\":1451606400000,\"price\":129.0},{\"symbol\":\"UK\",\"date\":1262304000000,\"price\":100.0},{\"symbol\":\"UK\",\"date\":1293840000000,\"price\":102.6},{\"symbol\":\"UK\",\"date\":1325376000000,\"price\":105.9},{\"symbol\":\"UK\",\"date\":1356998400000,\"price\":110.0},{\"symbol\":\"UK\",\"date\":1388534400000,\"price\":115.2},{\"symbol\":\"UK\",\"date\":1420070400000,\"price\":118.5},{\"symbol\":\"UK\",\"date\":1451606400000,\"price\":122.7}]'"
      ]
     },
     "execution_count": 262,
     "metadata": {},
     "output_type": "execute_result"
    }
   ],
   "source": [
    "totals = make_table(agg, 'All', indexed=True).loc[['All DCMS sectors', 'UK']]\n",
    "totals = round(totals, 1)\n",
    "totals = totals.stack()\n",
    "totals.name = 'value'\n",
    "totals = totals.reset_index()\n",
    "totals['year'] = pd.to_datetime(totals['year'], format='%Y')\n",
    "#totals_ts_data['year']\n",
    "totals.columns = [\"symbol\", \"date\", \"price\"]\n",
    "totals = totals.to_json(orient='records')\n",
    "totals"
   ]
  },
  {
   "cell_type": "markdown",
   "metadata": {},
   "source": [
    "### Build Written Report"
   ]
  },
  {
   "cell_type": "markdown",
   "metadata": {},
   "source": [
    "read json template in as python dict - update according, then convert back to json."
   ]
  },
  {
   "cell_type": "code",
   "execution_count": 269,
   "metadata": {},
   "outputs": [],
   "source": [
    "from report_maker import build\n",
    "# from report_maker import build (the function) create_app\n",
    "context = {\n",
    "    'global': {'hello':  'nothing'},\n",
    "    'money_bag': {'text': '£994'},\n",
    "    'donut': {'text': '19.2'},\n",
    "    'up_arrow_1': {'text': '20.6%'},\n",
    "    'up_arrow_2': {'text': '40.6%'},\n",
    "    'dcms_cont': uk_current_total,\n",
    "    'totals_chart_data': totals\n",
    "}\n",
    "build.all(context)"
   ]
  },
  {
   "cell_type": "code",
   "execution_count": 46,
   "metadata": {},
   "outputs": [],
   "source": [
    "from report_maker import testing"
   ]
  },
  {
   "cell_type": "code",
   "execution_count": 47,
   "metadata": {},
   "outputs": [
    {
     "data": {
      "text/plain": [
       "'/Users/max.unsted/projects/gva/report_maker'"
      ]
     },
     "execution_count": 47,
     "metadata": {},
     "output_type": "execute_result"
    }
   ],
   "source": [
    "testing.PATH"
   ]
  },
  {
   "cell_type": "code",
   "execution_count": null,
   "metadata": {},
   "outputs": [],
   "source": [
    "from report_maker import app\n",
    "if __name__ == \"__main__\":\n",
    "    app.run()"
   ]
  },
  {
   "cell_type": "code",
   "execution_count": 85,
   "metadata": {},
   "outputs": [
    {
     "data": {
      "text/plain": [
       "'/Users/max.unsted/projects/gva/publications/Nov_2016/deep'"
      ]
     },
     "execution_count": 85,
     "metadata": {},
     "output_type": "execute_result"
    }
   ],
   "source": [
    "import os\n",
    "cwd = os.getcwd()\n",
    "os.path.join(cwd, \"deep\")"
   ]
  },
  {
   "cell_type": "code",
   "execution_count": 19,
   "metadata": {},
   "outputs": [
    {
     "name": "stdout",
     "output_type": "stream",
     "text": [
      "__main__\n"
     ]
    }
   ],
   "source": [
    "print(__name__)"
   ]
  },
  {
   "cell_type": "markdown",
   "metadata": {},
   "source": [
    "### Create Excel Tables"
   ]
  },
  {
   "cell_type": "markdown",
   "metadata": {},
   "source": [
    "## Testing"
   ]
  },
  {
   "cell_type": "markdown",
   "metadata": {},
   "source": [
    "#### Dictionary of summary tables for use by the test script"
   ]
  },
  {
   "cell_type": "code",
   "execution_count": 7,
   "metadata": {},
   "outputs": [],
   "source": [
    "summary_tables = {\n",
    "    'gva_current': make_table(agg, 'All'),\n",
    "    'gva_current_indexed': make_table(agg, 'All', indexed=True),\n",
    "    'creative': make_table(agg, 'Creative Industries'),\n",
    "    'digital': make_table(agg, 'Digital Sector'),\n",
    "    'culture': make_table(agg, 'Cultural Sector'),\n",
    "}\n"
   ]
  }
 ],
 "metadata": {
  "kernelspec": {
   "display_name": "Python 3",
   "language": "python",
   "name": "python3"
  },
  "language_info": {
   "codemirror_mode": {
    "name": "ipython",
    "version": 3
   },
   "file_extension": ".py",
   "mimetype": "text/x-python",
   "name": "python",
   "nbconvert_exporter": "python",
   "pygments_lexer": "ipython3",
   "version": "3.6.4"
  }
 },
 "nbformat": 4,
 "nbformat_minor": 2
}
