{
 "cells": [
  {
   "cell_type": "code",
   "execution_count": 1,
   "metadata": {},
   "outputs": [],
   "source": [
    "# automatically reload packages every time we run import, so that changes are included\n",
    "if __name__ == \"__main__\":\n",
    "    %load_ext autoreload\n",
    "    %autoreload 2"
   ]
  },
  {
   "cell_type": "markdown",
   "metadata": {},
   "source": [
    "# 2016 GVA Publication"
   ]
  },
  {
   "cell_type": "markdown",
   "metadata": {},
   "source": [
    "#### Import packages and define paths to directories"
   ]
  },
  {
   "cell_type": "code",
   "execution_count": 2,
   "metadata": {},
   "outputs": [],
   "source": [
    "import pandas as pd\n",
    "import numpy as np\n",
    "import os\n",
    "import sys\n",
    "\n",
    "\n",
    "# add root directory to sys.path so we that our packages can be found\n",
    "# if packages are in root of this repo then pass a .\n",
    "# if packages are at the same level as repo then pass ..\n",
    "# if packages are in a different location, pass the full file path\n",
    "for path in ['../..', '']:\n",
    "    if path not in sys.path:\n",
    "        sys.path.append(path)\n",
    "\n",
    "# import package functions\n",
    "from gva_data_processing import *\n",
    "\n",
    "# set path to raw data excel file\n",
    "path = '/Volumes/Data/EAU/Statistics/Economic Estimates/2017 publications/November publication/GVA - current/Working_file_dcms_V11 2016 Data.xlsx'"
   ]
  },
  {
   "cell_type": "markdown",
   "metadata": {},
   "source": [
    "## Part 1 - Read in, clean, and aggregate data\n",
    "This section makes use of the source code in the GVA package's src folder"
   ]
  },
  {
   "cell_type": "markdown",
   "metadata": {},
   "source": [
    "#### Read in and clean up raw data in excel file"
   ]
  },
  {
   "cell_type": "code",
   "execution_count": null,
   "metadata": {},
   "outputs": [],
   "source": [
    "abs = read_abs(path)\n",
    "charities = read_charities(path)\n",
    "tourism = read_tourism(path)\n",
    "gva = read_gva(path)\n",
    "sic91 = read_sic91(path)"
   ]
  },
  {
   "cell_type": "markdown",
   "metadata": {},
   "source": [
    "#### Combine sic level data read in above into a single dataset"
   ]
  },
  {
   "cell_type": "code",
   "execution_count": null,
   "metadata": {},
   "outputs": [],
   "source": [
    "combined_gva = combine_gva(abs, gva, sic91)"
   ]
  },
  {
   "cell_type": "markdown",
   "metadata": {},
   "source": [
    "#### Aggregate data to sector level\n",
    "we want the data all in a single dataset so that sector totals can be easily added to subsector breakdowns, and we do not have to store the values twice, which could be confusing."
   ]
  },
  {
   "cell_type": "code",
   "execution_count": null,
   "metadata": {},
   "outputs": [],
   "source": [
    "agg = aggregate_data(combined_gva, gva, tourism, charities)\n",
    "agg"
   ]
  },
  {
   "cell_type": "code",
   "execution_count": null,
   "metadata": {},
   "outputs": [],
   "source": [
    "#pd.pivot_table(agg, values='gva', index=['sector', 'sub-sector'], columns=['year'], aggfunc=np.sum)"
   ]
  },
  {
   "cell_type": "markdown",
   "metadata": {},
   "source": [
    "#### Save aggregated data to ouputs directory"
   ]
  },
  {
   "cell_type": "code",
   "execution_count": null,
   "metadata": {},
   "outputs": [],
   "source": [
    "agg.to_csv('gva_aggregate_data_2016.csv', index=False)"
   ]
  },
  {
   "cell_type": "markdown",
   "metadata": {},
   "source": [
    "## Part 2 - Produce written reports\n",
    "This section makes used of the report_maker package"
   ]
  },
  {
   "cell_type": "markdown",
   "metadata": {},
   "source": [
    "#### Read in aggregate data"
   ]
  },
  {
   "cell_type": "markdown",
   "metadata": {},
   "source": [
    "This demonstrates that, once the CSV has been generated and published, all the the publication outputs can be created from it, using the below code."
   ]
  },
  {
   "cell_type": "code",
   "execution_count": 3,
   "metadata": {},
   "outputs": [],
   "source": [
    "agg = pd.read_csv('gva_aggregate_data_2016.csv')"
   ]
  },
  {
   "cell_type": "markdown",
   "metadata": {},
   "source": [
    "#### Create some summary tables\n",
    "the `make_table()` function simply make time series for different subsets of the data"
   ]
  },
  {
   "cell_type": "markdown",
   "metadata": {},
   "source": [
    "## Create dictionary to be populate html template"
   ]
  },
  {
   "cell_type": "code",
   "execution_count": 4,
   "metadata": {},
   "outputs": [],
   "source": [
    "context = {}"
   ]
  },
  {
   "cell_type": "markdown",
   "metadata": {},
   "source": [
    "#### Define tables"
   ]
  },
  {
   "cell_type": "code",
   "execution_count": 5,
   "metadata": {},
   "outputs": [
    {
     "data": {
      "text/plain": [
       "9.03549"
      ]
     },
     "execution_count": 5,
     "metadata": {},
     "output_type": "execute_result"
    }
   ],
   "source": [
    "gva_current = make_table(agg, 'All')\n",
    "gva_current_indexed = make_table(agg, 'All', indexed=True)\n",
    "creative = make_table(agg, 'Creative Industries')\n",
    "digital = make_table(agg, 'Digital Sector')\n",
    "culture = make_table(agg, 'Cultural Sector')\n",
    "gva_current.loc['Sport', 2016]"
   ]
  },
  {
   "cell_type": "markdown",
   "metadata": {},
   "source": [
    "#### Define individual stats"
   ]
  },
  {
   "cell_type": "code",
   "execution_count": 6,
   "metadata": {},
   "outputs": [],
   "source": [
    "perc_change_2010 = (gva_current.loc[:,2016] / gva_current.loc[:,2010] - 1) * 100\n",
    "perc_change_last_year = (gva_current.loc[:,2016] / gva_current.loc[:,2015] - 1) * 100\n",
    "perc_of_uk = (gva_current.loc[:, 2016] / gva_current.loc['UK', 2016]) * 100\n",
    "uk_current_total = gva_current.loc['UK', 2016]"
   ]
  },
  {
   "cell_type": "markdown",
   "metadata": {},
   "source": [
    "#### Extended tables"
   ]
  },
  {
   "cell_type": "code",
   "execution_count": 7,
   "metadata": {},
   "outputs": [],
   "source": [
    "gva_current_extended = round(make_table(agg, 'All'), 1)\n",
    "gva_current_extended['% change 2015-2016'] = round(perc_change_last_year, 1)\n",
    "gva_current_extended['% change 2010-2016'] = round(perc_change_2010, 1)\n",
    "gva_current_extended['% of UK GVA 2016'] = round(perc_of_uk, 1)\n",
    "gva_current_extended = gva_current_extended.reset_index()\n",
    "# convert column names to strings to ensure order is maintained\n",
    "#gva_current_extended.columns = [str(i) for i in list(gva_current_extended.columns)]\n",
    "gva_current_extended_json = gva_current_extended.to_json(orient='split', index=False)"
   ]
  },
  {
   "cell_type": "markdown",
   "metadata": {},
   "source": [
    "#### Convert data for charts"
   ]
  },
  {
   "cell_type": "code",
   "execution_count": 8,
   "metadata": {},
   "outputs": [],
   "source": [
    "totals = make_table(agg, 'All', indexed=True).loc[['All DCMS sectors', 'UK']]\n",
    "totals = round(totals, 1)\n",
    "totals = totals.stack()\n",
    "totals.name = 'value'\n",
    "totals = totals.reset_index()\n",
    "totals['year'] = pd.to_datetime(totals['year'], format='%Y')\n",
    "#totals_ts_data['year']\n",
    "totals.columns = [\"symbol\", \"date\", \"price\"]\n",
    "totals = totals.to_json(orient='records')"
   ]
  },
  {
   "cell_type": "markdown",
   "metadata": {},
   "source": [
    "### Build Written Report"
   ]
  },
  {
   "cell_type": "markdown",
   "metadata": {},
   "source": [
    "read json template in as python dict - update according, then convert back to json."
   ]
  },
  {
   "cell_type": "code",
   "execution_count": 9,
   "metadata": {},
   "outputs": [],
   "source": [
    "# considering just passing the global environment to build so we don't have to specify this, or do all of the\n",
    "# above within a new environment to convert to dict. use context.append().\n",
    "context = {\n",
    "    # publication info\n",
    "    'release_date': '29 November 2017',\n",
    "    \n",
    "    # individual stats\n",
    "    'uk_change_2010': round(perc_change_2010['UK'], 1),\n",
    "    'uk_change_last_year': round(perc_change_last_year['UK'], 1),\n",
    "    'uk_change_2010_cvm': 'NOT AVAILABLE',\n",
    "    'uk_change_last_year_cvm': 'NOT AVAILABLE',\n",
    "    'dcms_perc_uk': round(perc_of_uk['All DCMS sectors']),\n",
    "    'dcms_total': uk_current_total,\n",
    "    \n",
    "    # infographics\n",
    "    'money_bag': {'text': '£694'},\n",
    "    'donut': {'text': '19.2'},\n",
    "    'up_arrow_1': {'text': '20.6%'},\n",
    "    'up_arrow_2': {'text': '40.6%'},\n",
    "    \n",
    "    # json data\n",
    "    'totals_chart_data': totals,\n",
    "    'gva_current_extended_json': gva_current_extended_json,\n",
    "    \n",
    "}"
   ]
  },
  {
   "cell_type": "code",
   "execution_count": 10,
   "metadata": {},
   "outputs": [
    {
     "name": "stdout",
     "output_type": "stream",
     "text": [
      "/Users/max.unsted/projects/gva_publication/publications/nov_2016\n"
     ]
    }
   ],
   "source": [
    "from report_maker import build\n",
    "build(context)\n",
    "\n",
    "# build markdown (indevelopment) ignore html template, \n",
    "#save images as png."
   ]
  },
  {
   "cell_type": "code",
   "execution_count": 11,
   "metadata": {},
   "outputs": [],
   "source": [
    "# from report_maker import create_app\n",
    "# if __name__ == \"__main__\":\n",
    "#     app = create_app()\n",
    "#     app.run()"
   ]
  },
  {
   "cell_type": "markdown",
   "metadata": {},
   "source": [
    "## Part 3 - Create Excel Tables\n",
    "This section makes use of the spreadsheet_maker package. By default it will look for templates in publication_dir/spreadsheets/templates\n",
    "https://github.com/pytest-dev/pytest/issues/2268"
   ]
  },
  {
   "cell_type": "markdown",
   "metadata": {},
   "source": [
    "#### Generate templates\n",
    "This saves a little mannual work, and helps make excel files more predictable for programatically accessing sheets, and more consistent across publications. Rerunning with the same filenames will abort instead of overwritting.\n",
    "\n",
    "After generating templates, make any mannual adjustments and save. Try to keep these simple and avoid more complex things like images, cell merging, complicated formatting etc, since openpyxl can only read and write the basic feature of an excel file."
   ]
  },
  {
   "cell_type": "code",
   "execution_count": 13,
   "metadata": {},
   "outputs": [],
   "source": [
    "from spreadsheet_maker import make_template, populate_template\n",
    "make_template(\n",
    "    fn = 'GVA_sector_tables_template.xlsx',\n",
    "    sheets=[\n",
    "        \"1.1 - GVA current (£bn)\",\n",
    "        \"1.1a - GVA current (2010=100)\",\n",
    "        \"2.1 - GVA CVM (£bn)\",\n",
    "        \"2.1a - GVA CVM (2010=100)\"],\n",
    "    overwrite=True)\n",
    "make_template(\n",
    "    fn = 'GVA_subsector_tables_template.xlsx',\n",
    "    sheets=[\n",
    "        \"1 - Creative Industries-current\",\n",
    "        \"2 - Digital Sector-current\",\n",
    "        \"3 - Cultural Sector-current\",\n",
    "        \"4 - Computer Games-current\",\n",
    "        \"5 - Creative Industries-CVM\",\n",
    "        \"6 - Digital Sector-CVM\",\n",
    "        \"7 - Cultural Sector-CVM\",],\n",
    "    overwrite=True)\n",
    "\n",
    "populate_template(\n",
    "    fn = 'GVA_sector_tables.xlsx',\n",
    "    tables={\n",
    "        \"1.1 - GVA current (£bn)\": 'ho',\n",
    "        \"1.1a - GVA current (2010=100)\": 'hi',\n",
    "        \"2.1 - GVA CVM (£bn)\": 'lo',\n",
    "        \"2.1a - GVA CVM (2010=100)\": 'sho',\n",
    "    }\n",
    ")"
   ]
  },
  {
   "cell_type": "markdown",
   "metadata": {},
   "source": [
    "## Part 4 - Testing"
   ]
  },
  {
   "cell_type": "markdown",
   "metadata": {},
   "source": [
    "#### Dictionary of summary tables for use by the test script"
   ]
  },
  {
   "cell_type": "code",
   "execution_count": null,
   "metadata": {},
   "outputs": [],
   "source": [
    "summary_tables = {\n",
    "    'gva_current': make_table(agg, 'All'),\n",
    "    'gva_current_indexed': make_table(agg, 'All', indexed=True),\n",
    "    'creative': make_table(agg, 'Creative Industries'),\n",
    "    'digital': make_table(agg, 'Digital Sector'),\n",
    "    'culture': make_table(agg, 'Cultural Sector'),\n",
    "}\n"
   ]
  }
 ],
 "metadata": {
  "kernelspec": {
   "display_name": "gva_publication",
   "language": "python",
   "name": "gva_publication"
  },
  "language_info": {
   "codemirror_mode": {
    "name": "ipython",
    "version": 3
   },
   "file_extension": ".py",
   "mimetype": "text/x-python",
   "name": "python",
   "nbconvert_exporter": "python",
   "pygments_lexer": "ipython3",
   "version": "3.6.6"
  }
 },
 "nbformat": 4,
 "nbformat_minor": 2
}
