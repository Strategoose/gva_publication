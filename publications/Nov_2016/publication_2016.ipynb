{
 "cells": [
  {
   "cell_type": "markdown",
   "metadata": {},
   "source": [
    "# 2016 GVA Publication"
   ]
  },
  {
   "cell_type": "markdown",
   "metadata": {},
   "source": [
    "#### Import packages and define paths to directories"
   ]
  },
  {
   "cell_type": "code",
   "execution_count": null,
   "metadata": {},
   "outputs": [],
   "source": [
    "# this will automatically reload the gva package when changes have been made\n",
    "#%load_ext autoreload\n",
    "#%autoreload 2\n",
    "\n",
    "import pandas as pd\n",
    "import numpy as np\n",
    "import os\n",
    "import sys\n",
    "\n",
    "# find path to root directory\n",
    "if os.path.exists(os.path.abspath(os.path.join('src'))):\n",
    "    module_path = os.path.abspath(os.path.join(''))\n",
    "else: \n",
    "    module_path = os.path.abspath(os.path.join('../..'))\n",
    "\n",
    "# add root directory to sys.path so that package can be found\n",
    "if module_path not in sys.path:\n",
    "    sys.path.append(module_path)\n",
    "        \n",
    "# import package functions\n",
    "from src.functions import read_abs, read_charities, read_tourism, read_gva, read_sic91, combine_gva, aggregate_data, make_table\n",
    "\n",
    "# specify output directory\n",
    "output_dir = os.path.join(module_path, 'publications/Nov_2016')\n",
    "\n",
    "#package_dir = os.path.dirname(os.path.abspath(__file__))\n",
    "#output_dir = os.path.join(module_path, 'outputs')\n",
    "\n",
    "# set path to raw data excel file\n",
    "path = '/Volumes/Data/EAU/Statistics/Economic Estimates/2017 publications/November publication/GVA - current/Working_file_dcms_V11 2016 Data.xlsx'"
   ]
  },
  {
   "cell_type": "markdown",
   "metadata": {},
   "source": [
    "## Part 1 - Read in, clean, and aggregate data"
   ]
  },
  {
   "cell_type": "markdown",
   "metadata": {},
   "source": [
    "#### Read in and clean up raw data in excel file"
   ]
  },
  {
   "cell_type": "code",
   "execution_count": null,
   "metadata": {},
   "outputs": [],
   "source": [
    "abs = read_abs(path)\n",
    "charities = read_charities(path)\n",
    "tourism = read_tourism(path)\n",
    "gva = read_gva(path)\n",
    "sic91 = read_sic91(path)"
   ]
  },
  {
   "cell_type": "markdown",
   "metadata": {},
   "source": [
    "#### Combine sic level data read in above into a single dataset"
   ]
  },
  {
   "cell_type": "code",
   "execution_count": null,
   "metadata": {},
   "outputs": [],
   "source": [
    "combined_gva = combine_gva(abs, gva, sic91)"
   ]
  },
  {
   "cell_type": "markdown",
   "metadata": {},
   "source": [
    "#### Aggregate data to sector level"
   ]
  },
  {
   "cell_type": "code",
   "execution_count": null,
   "metadata": {},
   "outputs": [],
   "source": [
    "agg = aggregate_data(combined_gva, gva, tourism, charities)\n",
    "agg"
   ]
  },
  {
   "cell_type": "markdown",
   "metadata": {},
   "source": [
    "#### Save aggregated data to ouputs directory"
   ]
  },
  {
   "cell_type": "code",
   "execution_count": null,
   "metadata": {},
   "outputs": [],
   "source": [
    "agg.to_csv(os.path.join(output_dir, 'gva_aggregate_data_2016.csv'), index=False)"
   ]
  },
  {
   "cell_type": "markdown",
   "metadata": {},
   "source": [
    "## Part 2 - Produce outputs"
   ]
  },
  {
   "cell_type": "markdown",
   "metadata": {},
   "source": [
    "#### Read in aggregate data (This is so Part 1 doesn't need to be rerun)"
   ]
  },
  {
   "cell_type": "code",
   "execution_count": null,
   "metadata": {},
   "outputs": [],
   "source": [
    "agg = pd.read_csv(os.path.join(output_dir, 'gva_aggregate_data_2016.csv'))"
   ]
  },
  {
   "cell_type": "markdown",
   "metadata": {},
   "source": [
    "#### Create some summary tables"
   ]
  },
  {
   "cell_type": "code",
   "execution_count": null,
   "metadata": {},
   "outputs": [],
   "source": [
    "make_table(agg, 'All')"
   ]
  },
  {
   "cell_type": "markdown",
   "metadata": {},
   "source": [
    "#### Save summary tables to a dictionary so they can be easily used by the test script"
   ]
  },
  {
   "cell_type": "code",
   "execution_count": null,
   "metadata": {},
   "outputs": [],
   "source": [
    "summary_tables = {\n",
    "    'gva_current': make_table(agg, 'All'),\n",
    "    'gva_current_indexed': make_table(agg, 'All', indexed=True),\n",
    "    'creative': make_table(agg, 'Creative Industries'),\n",
    "    'digital': make_table(agg, 'Digital Sector'),\n",
    "    'culture': make_table(agg, 'Cultural Sector'),\n",
    "}\n"
   ]
  }
 ],
 "metadata": {
  "kernelspec": {
   "display_name": "Python 3",
   "language": "python",
   "name": "python3"
  },
  "language_info": {
   "codemirror_mode": {
    "name": "ipython",
    "version": 3
   },
   "file_extension": ".py",
   "mimetype": "text/x-python",
   "name": "python",
   "nbconvert_exporter": "python",
   "pygments_lexer": "ipython3",
   "version": "3.6.4"
  }
 },
 "nbformat": 4,
 "nbformat_minor": 2
}
