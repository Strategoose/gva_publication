{
 "cells": [
  {
   "cell_type": "code",
   "execution_count": null,
   "metadata": {},
   "outputs": [],
   "source": [
    "# automatically reload packages every time we run import, so that changes are included\n",
    "if __name__ == \"__main__\":\n",
    "    %load_ext autoreload\n",
    "    %autoreload 2"
   ]
  },
  {
   "cell_type": "markdown",
   "metadata": {},
   "source": [
    "# 2017 GVA Publication"
   ]
  },
  {
   "cell_type": "markdown",
   "metadata": {},
   "source": [
    "#### Import packages and define paths to directories"
   ]
  },
  {
   "cell_type": "code",
   "execution_count": null,
   "metadata": {},
   "outputs": [],
   "source": [
    "import pandas as pd\n",
    "import numpy as np\n",
    "import os\n",
    "import sys\n",
    "import platform\n",
    "\n",
    "# add root directory to sys.path so we that our packages can be found\n",
    "for path in ['../..', '']:\n",
    "    if path not in sys.path:\n",
    "        sys.path.append(path)\n",
    "\n",
    "# import package functions\n",
    "from gva_data_processing import *\n",
    "\n",
    "if platform.system() == 'Darwin':\n",
    "    shared_drive = '/Volumes/Data/EAU/Statistics/'\n",
    "elif platform.system() == 'Windows':\n",
    "    shared_drive = 'Z:/'\n",
    "\n",
    "# set path to raw data excel file\n",
    "path = shared_drive + 'Economic Estimates/2018 publications/GVA/CP Working tables/DP_Working_file_dcms_V11 2018 Data.xlsx'"
   ]
  },
  {
   "cell_type": "markdown",
   "metadata": {},
   "source": [
    "## Part 1 - Read in, clean, and aggregate data\n",
    "This section makes use of the source code in the GVA package's src folder"
   ]
  },
  {
   "cell_type": "markdown",
   "metadata": {},
   "source": [
    "#### Read in and clean up raw data in excel file"
   ]
  },
  {
   "cell_type": "code",
   "execution_count": null,
   "metadata": {},
   "outputs": [],
   "source": [
    "abs = read_abs(path, cols=list(range(13, 24)))\n",
    "charities = read_charities(path, rows=list(range(0,8)))\n",
    "tourism = read_tourism(path)\n",
    "gva = read_gva(path, rows=list(range(9,37)))\n",
    "sic91 = read_sic91(path)"
   ]
  },
  {
   "cell_type": "markdown",
   "metadata": {},
   "source": [
    "#### Combine sic level data read in above into a single dataset"
   ]
  },
  {
   "cell_type": "code",
   "execution_count": null,
   "metadata": {},
   "outputs": [],
   "source": [
    "combined_gva = combine_gva(abs, gva, sic91)"
   ]
  },
  {
   "cell_type": "markdown",
   "metadata": {},
   "source": [
    "#### Aggregate data to sector level\n",
    "we want the data all in a single dataset so that sector totals can be easily added to subsector breakdowns, and we do not have to store the values twice, which could be confusing."
   ]
  },
  {
   "cell_type": "code",
   "execution_count": null,
   "metadata": {},
   "outputs": [],
   "source": [
    "agg = aggregate_data(combined_gva, gva, tourism, charities)"
   ]
  },
  {
   "cell_type": "markdown",
   "metadata": {},
   "source": [
    "#### Read and append CVM data \n"
   ]
  },
  {
   "cell_type": "code",
   "execution_count": null,
   "metadata": {},
   "outputs": [],
   "source": [
    "cvm = pd.read_excel(path, sheet_name = 'CVM')\n",
    "cvm = cvm.stack().reset_index()\n",
    "cvm.columns = ['year', 'sector', 'cvm']\n",
    "cvm['sub-sector'] = 'All'"
   ]
  },
  {
   "cell_type": "code",
   "execution_count": null,
   "metadata": {},
   "outputs": [],
   "source": [
    "agg2 = pd.concat([agg, cvm], sort=True)\n",
    "agg2\n",
    "agg2.columns = ['cvm', 'cp', 'sector', 'sub-sector', 'year']\n",
    "cols=['year', 'sector', 'sub-sector', 'cp', 'cvm']\n",
    "agg2 = agg2[cols]"
   ]
  },
  {
   "cell_type": "markdown",
   "metadata": {},
   "source": [
    "#### Save aggregated data to ouputs directory"
   ]
  },
  {
   "cell_type": "code",
   "execution_count": null,
   "metadata": {},
   "outputs": [],
   "source": [
    "agg.to_csv('gva_aggregate_data_2017.csv', index=False)\n",
    "#agg2.to_csv('gva_aggregate_data_2017.csv', index=False)\n",
    "\n",
    "# Note that there are duplicates in the data for example, you can see C.I and publishing more than once in the data but this will be taken care of at a later stage"
   ]
  },
  {
   "cell_type": "markdown",
   "metadata": {},
   "source": [
    "## Part 2 - Define summary tables and variables\n",
    "This section makes used of the report_maker package"
   ]
  },
  {
   "cell_type": "markdown",
   "metadata": {},
   "source": [
    "#### Read in aggregate data"
   ]
  },
  {
   "cell_type": "markdown",
   "metadata": {},
   "source": [
    "This demonstrates that, once the CSV has been generated and published, all the the publication outputs can be created from it, using the below code."
   ]
  },
  {
   "cell_type": "code",
   "execution_count": null,
   "metadata": {},
   "outputs": [],
   "source": [
    "agg = pd.read_csv('gva_aggregate_data_2017.csv')"
   ]
  },
  {
   "cell_type": "code",
   "execution_count": null,
   "metadata": {},
   "outputs": [],
   "source": [
    "temp = agg.set_index(['year', 'sector', 'sub-sector'])\n",
    "current_year = 2018\n",
    "ci_current = temp.loc[[current_year, 'Creative Industries', 'Crafts']]['cvm']"
   ]
  },
  {
   "cell_type": "code",
   "execution_count": null,
   "metadata": {},
   "outputs": [],
   "source": [
    "agg.set_index(['year', 'sector', 'sub-sector'])"
   ]
  },
  {
   "cell_type": "markdown",
   "metadata": {},
   "source": [
    "#### Create some summary tables\n",
    "the `make_table()` function simply make time series for different subsets of the data"
   ]
  },
  {
   "cell_type": "markdown",
   "metadata": {},
   "source": [
    "#### Create dictionary to be populate html template"
   ]
  },
  {
   "cell_type": "code",
   "execution_count": null,
   "metadata": {},
   "outputs": [],
   "source": [
    "context = {}"
   ]
  },
  {
   "cell_type": "code",
   "execution_count": null,
   "metadata": {},
   "outputs": [],
   "source": [
    "import json\n",
    "def chart_json(tb):\n",
    "    # gva_current_extended = gva_current_extended.reset_index()\n",
    "    # convert column names to strings to ensure order is maintained\n",
    "    #gva_current_extended.columns = [str(i) for i in list(gva_current_extended.columns)]\n",
    "    tb = tb.transpose()\n",
    "    tb = tb.reset_index()\n",
    "    tb = tb.to_json(orient='table', index=False)\n",
    "    myd = json.loads(tb)\n",
    "    tb_json = json.dumps(myd['data'])\n",
    "    return tb_json"
   ]
  },
  {
   "cell_type": "markdown",
   "metadata": {},
   "source": [
    "#### Define tables"
   ]
  },
  {
   "cell_type": "code",
   "execution_count": null,
   "metadata": {},
   "outputs": [],
   "source": [
    "gva_current = make_table(agg, 'All')\n",
    "gva_current_indexed = make_table(agg, 'All', indexed=True)\n",
    "creative = make_table(agg, 'Creative Industries')\n",
    "digital = make_table(agg, 'Digital Sector')\n",
    "culture = make_table(agg, 'Cultural Sector')\n",
    "gva_current.loc['All DCMS sectors', 2017]"
   ]
  },
  {
   "cell_type": "code",
   "execution_count": null,
   "metadata": {},
   "outputs": [],
   "source": [
    "#make_table(agg, 'All', indexed=True).loc[['All DCMS sectors', 'UK'],:]"
   ]
  },
  {
   "cell_type": "code",
   "execution_count": null,
   "metadata": {},
   "outputs": [],
   "source": []
  },
  {
   "cell_type": "code",
   "execution_count": null,
   "metadata": {},
   "outputs": [],
   "source": [
    "#make_table(agg, 'All', indexed=True)"
   ]
  },
  {
   "cell_type": "code",
   "execution_count": null,
   "metadata": {},
   "outputs": [],
   "source": [
    "tb = make_table(agg, 'All')\n",
    "tb.loc['All DCMS sectors (excl Tourism)'] = tb.loc['All DCMS sectors'] - tb.loc['Tourism']\n",
    "tb = tb.loc[['All DCMS sectors (excl Tourism)', 'UK'],:]\n",
    "data = tb.copy()\n",
    "tb.loc[:, 2010] = 100\n",
    "for y in range(2011, 2018):\n",
    "    tb.loc[:, y] = data.loc[:, y] / data.loc[:, 2010] * 100\n",
    "tb = round(tb, 1)\n",
    "fig_2_1 = chart_json(tb)"
   ]
  },
  {
   "cell_type": "code",
   "execution_count": null,
   "metadata": {},
   "outputs": [],
   "source": [
    "\n",
    "\n",
    "fig_3_1 = make_table(agg, 'All', indexed=True).loc[['Civil Society (Non-market charities)', 'UK'],:]\n",
    "fig_3_1 = chart_json(fig_3_1)\n",
    "\n",
    "fig_3_2 = make_table(agg, 'All', indexed=True).loc[['Creative Industries', 'UK'],:]\n",
    "fig_3_2 = chart_json(fig_3_2)\n",
    "\n",
    "fig_3_3 = make_table(agg, 'All', indexed=True).loc[['Cultural Sector', 'UK'],:]\n",
    "fig_3_3 = chart_json(fig_3_3)\n",
    "\n",
    "fig_3_4 = make_table(agg, 'All', indexed=True).loc[['Digital Sector', 'UK'],:]\n",
    "fig_3_4 = chart_json(fig_3_4)\n",
    "\n",
    "fig_3_5 = make_table(agg, 'All', indexed=True).loc[['Gambling', 'UK'],:]\n",
    "fig_3_5 = chart_json(fig_3_5)\n",
    "\n",
    "fig_3_6 = make_table(agg, 'All', indexed=True).loc[['Sport', 'UK'],:]\n",
    "fig_3_6 = chart_json(fig_3_6)\n",
    "\n",
    "fig_3_7 = make_table(agg, 'All', indexed=True).loc[['Telecoms', 'UK'],:]\n",
    "fig_3_7 = chart_json(fig_3_7)"
   ]
  },
  {
   "cell_type": "code",
   "execution_count": null,
   "metadata": {},
   "outputs": [],
   "source": [
    "tb = make_table(agg, 'All', indexed=True).loc[['Tourism', 'UK'],:]\n",
    "tb.loc['Tourism', 2010] = np.nan\n",
    "tb.loc['Tourism', 2011] = np.nan\n",
    "tb.loc['Tourism', 2012] = np.nan\n",
    "tb.loc['Tourism', 2013] = np.nan\n",
    "tb.loc['Tourism', 2014] = np.nan\n",
    "\n",
    "#tb.columns = [2010, 2011, 2012, 2013, 2014, '2015 (1)', '2016 (1)', '2017 (1)']\n",
    "#tb.columns.name = 'year'\n",
    "fig_3_8 = chart_json(tb)"
   ]
  },
  {
   "cell_type": "markdown",
   "metadata": {},
   "source": [
    "#### Define individual stats"
   ]
  },
  {
   "cell_type": "code",
   "execution_count": null,
   "metadata": {},
   "outputs": [],
   "source": [
    "#gva_current.to_excel('gva_current_nb.xlsx')\n",
    "\n",
    "#This step saves the table we just created. Use this to QA the output against the manual working tables. Note that you may have to change the code in functions.py to QA against the unrounded data"
   ]
  },
  {
   "cell_type": "code",
   "execution_count": null,
   "metadata": {},
   "outputs": [],
   "source": []
  },
  {
   "cell_type": "code",
   "execution_count": null,
   "metadata": {},
   "outputs": [],
   "source": [
    "perc_change_2010 = (gva_current.loc[:,2017] / gva_current.loc[:,2010] - 1) * 100\n",
    "perc_change_last_year = (gva_current.loc[:,2017] / gva_current.loc[:,2016] - 1) * 100\n",
    "perc_of_uk = (gva_current.loc[:, 2017] / gva_current.loc['UK', 2017]) * 100\n",
    "uk_current_total = gva_current.loc['UK', 2017]"
   ]
  },
  {
   "cell_type": "markdown",
   "metadata": {},
   "source": [
    "#### Extended tables"
   ]
  },
  {
   "cell_type": "code",
   "execution_count": null,
   "metadata": {},
   "outputs": [],
   "source": [
    "tb = round(make_table(agg, 'All'), 100)\n",
    "# add extra all dcms row\n",
    "tb.loc['All DCMS sectors (excl Tourism)'] = tb.loc['All DCMS sectors'] - tb.loc['Tourism']\n",
    "\n",
    "# reorder so extra row is in correct place\n",
    "tb = tb.loc[['Civil Society (Non-market charities)', 'Creative Industries',\n",
    "       'Cultural Sector', 'Digital Sector', 'Gambling', 'Sport', 'Telecoms',\n",
    "       'Tourism', 'All DCMS sectors (excl Tourism)', 'All DCMS sectors', 'UK']]\n",
    "\n",
    "# add percentage columns\n",
    "perc_change_2010 = (tb.loc[:,2017] / tb.loc[:,2010] - 1) * 100\n",
    "perc_change_last_year = (tb.loc[:,2017] / tb.loc[:,2016] - 1) * 100\n",
    "perc_of_uk = (tb.loc[:, 2017] / tb.loc['UK', 2017]) * 100\n",
    "uk_current_total = tb.loc['UK', 2017]\n",
    "tb = round(tb, 1)\n",
    "\n",
    "tb['% change 2016-2017'] = round(perc_change_last_year, 1)\n",
    "tb['% change 2010-2017'] = round(perc_change_2010, 1)\n",
    "tb['% of UK GVA 2017'] = round(perc_of_uk, 1)\n",
    "tb.loc['Tourism', '% change 2010-2017'] = \"N/A\"\n",
    "tb.loc['All DCMS sectors', '% change 2010-2017'] = \"N/A\"\n",
    "myindex = tb.index.tolist()\n",
    "myindex[0] = '<p>' + myindex[0] + '<sup>2</sup></p>'\n",
    "myindex[7] = '<p>' + myindex[7] + '<sup>7</sup></p>'\n",
    "myindex[9] = '<p>' + myindex[9] + '<sup>7</sup></p>'\n",
    "tb.index = myindex\n",
    "tb.index.name = 'Sector'\n",
    "tb = tb.reset_index()\n",
    "mycols = tb.columns.tolist()\n",
    "mycols[1] = '<p>' + str(mycols[1]) + '<sup>(r)</sup></p>'\n",
    "mycols[2] = '<p>' + str(mycols[2]) + '<sup>(r)</sup></p>'\n",
    "mycols[3] = '<p>' + str(mycols[3]) + '<sup>(r)</sup></p>'\n",
    "mycols[4] = '<p>' + str(mycols[4]) + '<sup>(r)</sup></p>'\n",
    "mycols[5] = '<p>' + str(mycols[5]) + '<sup>(r)</sup></p>'\n",
    "mycols[6] = '<p>' + str(mycols[6]) + '<sup>(r)</sup></p>'\n",
    "mycols[7] = '<p>' + str(mycols[7]) + '<sup>(r)</sup></p>'\n",
    "mycols[8] = '<p>' + str(mycols[8]) + '<sup>(p)1</sup></p>'\n",
    "\n",
    "tb.columns = mycols\n",
    "# convert column names to strings to ensure order is maintained\n",
    "#gva_current_extended.columns = [str(i) for i in list(gva_current_extended.columns)]\n",
    "tb_2_1 = tb.to_json(orient='split', index=False)"
   ]
  },
  {
   "cell_type": "code",
   "execution_count": null,
   "metadata": {},
   "outputs": [],
   "source": [
    "tb = round(make_table(agg, 'All'), 1)\n",
    "tb.loc['All DCMS sectors (excl Tourism)'] = tb.loc['All DCMS sectors'] - tb.loc['Tourism']\n",
    "# reorder so extra row is in correct place\n",
    "tb = tb.loc[['Civil Society (Non-market charities)', 'Creative Industries',\n",
    "       'Cultural Sector', 'Digital Sector', 'Gambling', 'Sport', 'Telecoms',\n",
    "       'Tourism', 'All DCMS sectors (excl Tourism)', 'All DCMS sectors', 'UK']]\n",
    "#tb.loc[['All DCMS sectors (exc. Tourism)', 'UK'],:]\n",
    "#fig_2_1 = chart_json(fig_2_1)"
   ]
  },
  {
   "cell_type": "code",
   "execution_count": null,
   "metadata": {},
   "outputs": [],
   "source": [
    "gva_current_json = round(make_table(agg, 'All'), 1)\n",
    "gva_current_json = chart_json(gva_current_json)"
   ]
  },
  {
   "cell_type": "markdown",
   "metadata": {},
   "source": [
    "#### Overlap table"
   ]
  },
  {
   "cell_type": "code",
   "execution_count": null,
   "metadata": {},
   "outputs": [],
   "source": [
    "overlap_tb = pd.read_excel(path, sheet_name = 'Overlaptable')\n",
    "#overlap_tb = round(overlap_tb, 1) # waiting for access to shared drive\n",
    "overlap_tb = overlap_tb.to_json(orient='split', index=False)"
   ]
  },
  {
   "cell_type": "markdown",
   "metadata": {},
   "source": [
    "#### Annex table"
   ]
  },
  {
   "cell_type": "code",
   "execution_count": null,
   "metadata": {},
   "outputs": [],
   "source": [
    "annex_b = pd.read_excel(path, sheet_name = 'AnnexB')\n",
    "annex_b = annex_b.to_json(orient='split', index=False)"
   ]
  },
  {
   "cell_type": "markdown",
   "metadata": {},
   "source": [
    "#### Table 4.1"
   ]
  },
  {
   "cell_type": "code",
   "execution_count": null,
   "metadata": {},
   "outputs": [],
   "source": [
    "tb = pd.read_excel(path, sheet_name = 'CVM_table')\n",
    "tb = round(tb, 1)\n",
    "\n",
    "tb = tb.set_index('Sector')\n",
    "copy_4_1 = tb.copy()\n",
    "tb.loc['Tourism', '% change 2010 - 2017'] = \"N/A\"\n",
    "tb.loc['All DCMS sectors', '% change 2010 - 2017'] = \"N/A\"\n",
    "\n",
    "\n",
    "myindex = tb.index.tolist()\n",
    "myindex[6] = '<p>' + myindex[6] + '<sup>7</sup></p>'\n",
    "myindex[8] = '<p>' + myindex[8] + '<sup>2</sup></p>'\n",
    "tb.index = myindex\n",
    "tb.index.name = 'Sector'\n",
    "tb = tb.reset_index()\n",
    "mycols = tb.columns.tolist()\n",
    "mycols[1] = '<p>' + str(mycols[1]) + '<sup>(r)</sup></p>'\n",
    "mycols[2] = '<p>' + str(mycols[2]) + '<sup>(r)</sup></p>'\n",
    "mycols[3] = '<p>' + str(mycols[3]) + '<sup>(r)</sup></p>'\n",
    "mycols[4] = '<p>' + str(mycols[4]) + '<sup>(r)</sup></p>'\n",
    "mycols[5] = '<p>' + str(mycols[5]) + '<sup>(r)</sup></p>'\n",
    "mycols[6] = '<p>' + str(mycols[6]) + '<sup>(r)</sup></p>'\n",
    "mycols[7] = '<p>' + str(mycols[7]) + '<sup>(r)</sup></p>'\n",
    "mycols[8] = '<p>' + str(mycols[8]) + '<sup>(p)1</sup></p>'\n",
    "\n",
    "tb.columns = mycols\n",
    "\n",
    "tb_4_1 = tb.to_json(orient='split', index=False)"
   ]
  },
  {
   "cell_type": "code",
   "execution_count": null,
   "metadata": {},
   "outputs": [],
   "source": [
    "tb_4_1"
   ]
  },
  {
   "cell_type": "code",
   "execution_count": null,
   "metadata": {},
   "outputs": [],
   "source": [
    "copy_4_1.loc[['All DCMS sectors (excl Tourism)', 'UK'],[2010, 2011, 2012, 2013, 2014, 2015, 2016, 2017]]"
   ]
  },
  {
   "cell_type": "code",
   "execution_count": null,
   "metadata": {},
   "outputs": [],
   "source": [
    "tb = copy_4_1.loc[['All DCMS sectors (excl Tourism)', 'UK'],[2010, 2011, 2012, 2013, 2014, 2015, 2016, 2017]]\n",
    "tb.columns.name = 'year'\n",
    "tb.loc[:, 2010] = 100\n",
    "for y in range(2011, 2018):\n",
    "    tb.loc[:, y] = data.loc[:, y] / data.loc[:, 2010] * 100\n",
    "tb = round(tb, 5)\n",
    "fig_4_1 = chart_json(tb)"
   ]
  },
  {
   "cell_type": "code",
   "execution_count": null,
   "metadata": {},
   "outputs": [],
   "source": [
    "tb = gva_current_indexed\n",
    "tb = tb.drop(['All DCMS sectors', 'UK'])\n",
    "fig_4_2 = chart_json(tb)"
   ]
  },
  {
   "cell_type": "code",
   "execution_count": null,
   "metadata": {},
   "outputs": [],
   "source": [
    "tb = gva_current_indexed\n",
    "tb = tb.drop(['All DCMS sectors', 'UK'])\n",
    "tb.loc['Tourism', 2010] = np.nan\n",
    "tb.loc['Tourism', 2011] = np.nan\n",
    "tb.loc['Tourism', 2012] = np.nan\n",
    "tb.loc['Tourism', 2013] = np.nan\n",
    "tb.loc['Tourism', 2014] = np.nan\n",
    "fig_4_2 = chart_json(tb)"
   ]
  },
  {
   "cell_type": "markdown",
   "metadata": {},
   "source": [
    "#### Convert data for charts"
   ]
  },
  {
   "cell_type": "markdown",
   "metadata": {},
   "source": [
    "## Part 3 - Produce written reports\n",
    "This section makes used of the report_maker package"
   ]
  },
  {
   "cell_type": "markdown",
   "metadata": {},
   "source": [
    "### Build Written Report"
   ]
  },
  {
   "cell_type": "markdown",
   "metadata": {},
   "source": [
    "read json template in as python dict - update according, then convert back to json."
   ]
  },
  {
   "cell_type": "code",
   "execution_count": null,
   "metadata": {},
   "outputs": [],
   "source": [
    "# considering just passing the global environment to build so we don't have to specify this, or do all of the\n",
    "# above within a new environment to convert to dict. use context.append().\n",
    "context = {\n",
    "    # publication info\n",
    "    'release_date': '29 November 2017',\n",
    "    \n",
    "    \n",
    "    # infographics\n",
    "    'money_bag': {'text': '£268'},\n",
    "    'donut': {'text': '14.6'},\n",
    "    'up_arrow_1': {'text': '3.4%'},\n",
    "    \n",
    "    # json data\n",
    "    'fig_2_1': fig_2_1,\n",
    "    'tb_2_1': tb_2_1,\n",
    "    'tb_2_2': overlap_tb,\n",
    "    \n",
    "    'fig_3_1': fig_3_1,\n",
    "    'fig_3_2': fig_3_2,\n",
    "    'fig_3_3': fig_3_3,\n",
    "    'fig_3_4': fig_3_4,\n",
    "    'fig_3_5': fig_3_5,\n",
    "    'fig_3_6': fig_3_6,\n",
    "    'fig_3_7': fig_3_7,\n",
    "    'fig_3_8': fig_3_8,\n",
    "    \n",
    "    'fig_4_1': fig_4_1, # needs updating\n",
    "    'tb_4_1': tb_4_1,\n",
    "    'fig_4_2': fig_4_2,\n",
    "    'annex_b': annex_b,\n",
    "        \n",
    "}"
   ]
  },
  {
   "cell_type": "code",
   "execution_count": null,
   "metadata": {},
   "outputs": [],
   "source": [
    "from report_maker import build\n",
    "build(context)"
   ]
  },
  {
   "cell_type": "markdown",
   "metadata": {},
   "source": [
    "## Part 3 - Create Excel Tables\n",
    "This section makes use of the spreadsheet_maker package. By default it will look for templates in publication_dir/spreadsheets/templates\n",
    "https://github.com/pytest-dev/pytest/issues/2268"
   ]
  },
  {
   "cell_type": "markdown",
   "metadata": {},
   "source": [
    "`make_template()` saves a little mannual work, and helps make excel files more predictable for programatically accessing sheets, and more consistent across publications. Rerunning with the same filenames will overwritting not overwrite by default.\n",
    "\n",
    "After generating templates, make any mannual adjustments and save. Try to keep these simple and avoid more complex things like images, cell merging, complicated formatting etc, since openpyxl can only read and write the basic feature of an excel file.\n",
    "`populate_template()` populate sheets according the a dictionary of sheets and associated dataframes, passed to tables."
   ]
  },
  {
   "cell_type": "code",
   "execution_count": null,
   "metadata": {},
   "outputs": [],
   "source": [
    "from spreadsheet_maker import make_template, populate_template\n",
    "\n",
    "# sector tables\n",
    "fn = 'GVA_sector_tables.xlsx'\n",
    "tables={\n",
    "    \"1.1 - GVA current (£bn)\": gva_current,\n",
    "    \"1.1a - GVA current (2010=100)\": gva_current_indexed,\n",
    "    \"2.1 - GVA CVM (£bn)\": None,\n",
    "    \"2.1a - GVA CVM (2010=100)\": None,\n",
    "}\n",
    "# make list of sheet names from the keys from tables\n",
    "make_template(fn=fn, sheets=list(tables.keys()), overwrite=True)\n",
    "populate_template(fn=fn, tables=tables)\n",
    "\n",
    "# subsector tables\n",
    "fn = 'GVA_subsector_tables.xlsx'\n",
    "tables={\n",
    "    \"1 - Creative Industries-current\": creative,\n",
    "    \"2 - Digital Sector-current\": digital,\n",
    "    \"3 - Cultural Sector-current\": culture,\n",
    "    \"4 - Computer Games-current\": None,\n",
    "    \"5 - Creative Industries-CVM\": None,\n",
    "    \"6 - Digital Sector-CVM\": None,\n",
    "    \"7 - Cultural Sector-CVM\": None,\n",
    "}\n",
    "make_template(fn=fn, sheets=list(tables.keys()), overwrite=True)\n",
    "populate_template(fn=fn, tables=tables)\n"
   ]
  },
  {
   "cell_type": "markdown",
   "metadata": {},
   "source": [
    "## Part 4 - Testing"
   ]
  },
  {
   "cell_type": "markdown",
   "metadata": {},
   "source": [
    "#### Dictionary of summary tables for use by the test script"
   ]
  },
  {
   "cell_type": "code",
   "execution_count": null,
   "metadata": {},
   "outputs": [],
   "source": [
    "summary_tables = {\n",
    "    'gva_current': make_table(agg, 'All'),\n",
    "    'gva_current_indexed': make_table(agg, 'All', indexed=True),\n",
    "    'creative': make_table(agg, 'Creative Industries'),\n",
    "    'digital': make_table(agg, 'Digital Sector'),\n",
    "    'culture': make_table(agg, 'Cultural Sector'),\n",
    "}\n"
   ]
  },
  {
   "cell_type": "code",
   "execution_count": null,
   "metadata": {},
   "outputs": [],
   "source": [
    "summary_tables['digital']"
   ]
  },
  {
   "cell_type": "code",
   "execution_count": null,
   "metadata": {},
   "outputs": [],
   "source": [
    "gva_current_indexed.to_excel('gva_current_indexed_nb.xlsx')\n",
    "creative.to_excel('creative_nb.xlsx')\n",
    "digital.to_excel('digital_nb.xlsx')\n",
    "culture.to_excel('culture_nb.xlsx')"
   ]
  },
  {
   "cell_type": "code",
   "execution_count": null,
   "metadata": {},
   "outputs": [],
   "source": []
  }
 ],
 "metadata": {
  "kernelspec": {
   "display_name": "gva_publication",
   "language": "python",
   "name": "gva_publication"
  },
  "language_info": {
   "codemirror_mode": {
    "name": "ipython",
    "version": 3
   },
   "file_extension": ".py",
   "mimetype": "text/x-python",
   "name": "python",
   "nbconvert_exporter": "python",
   "pygments_lexer": "ipython3",
   "version": "3.6.6"
  }
 },
 "nbformat": 4,
 "nbformat_minor": 2
}
